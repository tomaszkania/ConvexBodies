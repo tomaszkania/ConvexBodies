{
 "cells": [
  {
   "cell_type": "code",
   "execution_count": 1,
   "id": "895207cb",
   "metadata": {},
   "outputs": [],
   "source": [
    "import os\n",
    "import sys\n",
    "#sys.setrecursionlimit(1000)  # Recursion limit set to 5000\n",
    "\n",
    "\n",
    "path = os.path.abspath(os.path.join(os.getcwd(), '..'))  # get the parent directory\n",
    "sys.path.append(path)  # set the current working directory to the parent directory\n",
    "\n",
    "from tsirelson import Tsirelson\n",
    "\n"
   ]
  },
  {
   "attachments": {},
   "cell_type": "markdown",
   "id": "b4d79947",
   "metadata": {},
   "source": [
    "Tsirelson-norm balls in $\\mathbb R^n$."
   ]
  },
  {
   "cell_type": "code",
   "execution_count": 2,
   "id": "91423d38",
   "metadata": {},
   "outputs": [],
   "source": [
    "n, radius, theta = 3, 1, 0.3\n",
    "t_ball = Tsirelson(n, radius)"
   ]
  },
  {
   "attachments": {},
   "cell_type": "markdown",
   "id": "334c8b82",
   "metadata": {},
   "source": [
    "The unit ball for the Tsirelson norm for three-dimensional vectors."
   ]
  },
  {
   "cell_type": "code",
   "execution_count": 3,
   "id": "d2ad1264",
   "metadata": {},
   "outputs": [],
   "source": [
    "t_ball.plot(None)"
   ]
  },
  {
   "cell_type": "code",
   "execution_count": null,
   "id": "fe4cb240",
   "metadata": {},
   "outputs": [],
   "source": []
  }
 ],
 "metadata": {
  "kernelspec": {
   "display_name": "stats",
   "language": "python",
   "name": "python3"
  },
  "language_info": {
   "codemirror_mode": {
    "name": "ipython",
    "version": 3
   },
   "file_extension": ".py",
   "mimetype": "text/x-python",
   "name": "python",
   "nbconvert_exporter": "python",
   "pygments_lexer": "ipython3",
   "version": "3.10.11"
  }
 },
 "nbformat": 4,
 "nbformat_minor": 5
}
